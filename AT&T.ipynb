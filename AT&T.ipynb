{
 "cells": [
  {
   "cell_type": "code",
   "execution_count": 1,
   "metadata": {},
   "outputs": [],
   "source": [
    "import pandas as pd"
   ]
  },
  {
   "cell_type": "code",
   "execution_count": 2,
   "metadata": {},
   "outputs": [],
   "source": [
    "# import csv file to dataframes\n",
    "cars_df = pd.read_csv(\"Car_Detail.csv\")\n",
    "house_df = pd.read_csv(\"Median_Household_Incomes.csv\")"
   ]
  },
  {
   "cell_type": "code",
   "execution_count": 3,
   "metadata": {
    "scrolled": true
   },
   "outputs": [
    {
     "data": {
      "text/plain": [
       "Make                    0\n",
       "Model                   0\n",
       "Year                    0\n",
       "Engine Fuel Type        3\n",
       "Engine HP              69\n",
       "Engine Cylinders       30\n",
       "Transmission Type       0\n",
       "Driven_Wheels           0\n",
       "Number of Doors         6\n",
       "Market Category      3742\n",
       "Vehicle Size            0\n",
       "Vehicle Style           0\n",
       "highway MPG             0\n",
       "city mpg                0\n",
       "Popularity              0\n",
       "MSRP                    0\n",
       "dtype: int64"
      ]
     },
     "execution_count": 3,
     "metadata": {},
     "output_type": "execute_result"
    }
   ],
   "source": [
    "# NA count for each column in cars_df\n",
    "cars_df.isnull().sum()"
   ]
  },
  {
   "cell_type": "code",
   "execution_count": 4,
   "metadata": {},
   "outputs": [
    {
     "data": {
      "text/plain": [
       "44350.0"
      ]
     },
     "execution_count": 4,
     "metadata": {},
     "output_type": "execute_result"
    }
   ],
   "source": [
    "# Median MSRP of cars that are Convertibles\n",
    "cars_df[cars_df[\"Vehicle Style\"] == \"Convertible\"][\"MSRP\"].median()"
   ]
  },
  {
   "cell_type": "code",
   "execution_count": 5,
   "metadata": {
    "scrolled": true
   },
   "outputs": [
    {
     "data": {
      "text/plain": [
       "2116    400.0\n",
       "2117    400.0\n",
       "2118    400.0\n",
       "Name: Engine HP, dtype: float64"
      ]
     },
     "execution_count": 5,
     "metadata": {},
     "output_type": "execute_result"
    }
   ],
   "source": [
    "# Engine Horse Power of the cars with the least Populatiry\n",
    "cars_df[cars_df[\"Popularity\"] == cars_df[\"Popularity\"].min()][\"Engine HP\"]"
   ]
  },
  {
   "cell_type": "code",
   "execution_count": 6,
   "metadata": {},
   "outputs": [
    {
     "data": {
      "text/plain": [
       "34"
      ]
     },
     "execution_count": 6,
     "metadata": {},
     "output_type": "execute_result"
    }
   ],
   "source": [
    "# Extract year from date into Year column\n",
    "house_df['Year'] = pd.DatetimeIndex(house_df['DATE']).year\n",
    "\n",
    "# Find how many years house_df data spans\n",
    "house_df[\"Year\"].max() - house_df[\"Year\"].min()"
   ]
  },
  {
   "cell_type": "code",
   "execution_count": 7,
   "metadata": {},
   "outputs": [
    {
     "data": {
      "text/plain": [
       "33    1/1/17\n",
       "Name: DATE, dtype: object"
      ]
     },
     "execution_count": 7,
     "metadata": {},
     "output_type": "execute_result"
    }
   ],
   "source": [
    "# Year of the Highest median income in Texas\n",
    "house_df[house_df[\"Median_TX\"] == house_df[\"Median_TX\"].max()][\"DATE\"]"
   ]
  },
  {
   "cell_type": "code",
   "execution_count": 8,
   "metadata": {},
   "outputs": [
    {
     "data": {
      "text/plain": [
       "Make\n",
       "Audi      254\n",
       "Subaru    190\n",
       "BMW       144\n",
       "Name: Driven_Wheels, dtype: int64"
      ]
     },
     "execution_count": 8,
     "metadata": {},
     "output_type": "execute_result"
    }
   ],
   "source": [
    "# Remove all rows with NA from cars_df\n",
    "cars_df_no_na = cars_df.dropna()\n",
    "\n",
    "# Create Database with cars that only have all wheel drive\n",
    "cars_allwheel = cars_df_no_na[cars_df_no_na[\"Driven_Wheels\"] == \"all wheel drive\"]\n",
    "\n",
    "# Top Three cars with all wheel drive by make\n",
    "cars_allwheel.groupby([\"Make\"])[\"Driven_Wheels\"].count().sort_values(ascending=False).head(3)"
   ]
  },
  {
   "cell_type": "code",
   "execution_count": 9,
   "metadata": {},
   "outputs": [
    {
     "data": {
      "text/plain": [
       "Year\n",
       "2007    21.163090\n",
       "2003    21.761364\n",
       "2002    21.915493\n",
       "2008    22.478049\n",
       "2004    22.637363\n",
       "Name: highway MPG, dtype: float64"
      ]
     },
     "execution_count": 9,
     "metadata": {},
     "output_type": "execute_result"
    }
   ],
   "source": [
    "# The top 5 Years with the lowest average Highway mpg\n",
    "cars_df_no_na.groupby([\"Year\"])[\"highway MPG\"].mean().sort_values().head(5)"
   ]
  },
  {
   "cell_type": "code",
   "execution_count": 10,
   "metadata": {},
   "outputs": [
    {
     "data": {
      "text/html": [
       "<div>\n",
       "<style scoped>\n",
       "    .dataframe tbody tr th:only-of-type {\n",
       "        vertical-align: middle;\n",
       "    }\n",
       "\n",
       "    .dataframe tbody tr th {\n",
       "        vertical-align: top;\n",
       "    }\n",
       "\n",
       "    .dataframe thead th {\n",
       "        text-align: right;\n",
       "    }\n",
       "</style>\n",
       "<table border=\"1\" class=\"dataframe\">\n",
       "  <thead>\n",
       "    <tr style=\"text-align: right;\">\n",
       "      <th></th>\n",
       "      <th>MSRP</th>\n",
       "      <th>Median_CA</th>\n",
       "    </tr>\n",
       "  </thead>\n",
       "  <tbody>\n",
       "    <tr>\n",
       "      <th>MSRP</th>\n",
       "      <td>1.000000</td>\n",
       "      <td>0.883431</td>\n",
       "    </tr>\n",
       "    <tr>\n",
       "      <th>Median_CA</th>\n",
       "      <td>0.883431</td>\n",
       "      <td>1.000000</td>\n",
       "    </tr>\n",
       "  </tbody>\n",
       "</table>\n",
       "</div>"
      ],
      "text/plain": [
       "               MSRP  Median_CA\n",
       "MSRP       1.000000   0.883431\n",
       "Median_CA  0.883431   1.000000"
      ]
     },
     "execution_count": 10,
     "metadata": {},
     "output_type": "execute_result"
    }
   ],
   "source": [
    "# drop all rows with NA in house database\n",
    "house_nona = house_df.dropna()\n",
    "\n",
    "# create database with for only CA homes\n",
    "house_ca = house_nona[[\"Year\", \"Median_CA\"]]\n",
    "\n",
    "# Group cars by year and msrp and median.\n",
    "car_msrp = cars_df_no_na[[\"Year\", \"MSRP\"]].groupby(\"Year\").median()\n",
    "\n",
    "# reset car_msrp index\n",
    "car_msrp = car_msrp.reset_index()\n",
    "\n",
    "# merge car_msrp and house_ca dataframes on Year column\n",
    "car_house = pd.merge(car_msrp, house_ca, on='Year')\n",
    "\n",
    "# Corrilation between MSRP and Median_CA by Year\n",
    "car_house[[\"MSRP\", \"Median_CA\"]].corr()"
   ]
  },
  {
   "cell_type": "code",
   "execution_count": 11,
   "metadata": {},
   "outputs": [
    {
     "data": {
      "text/plain": [
       "Median_CA     3774.0\n",
       "Median_CO    10590.0\n",
       "Median_NY     3110.0\n",
       "Median_TX     3240.0\n",
       "Median_IN     7970.0\n",
       "Year             1.0\n",
       "dtype: float64"
      ]
     },
     "execution_count": 11,
     "metadata": {},
     "output_type": "execute_result"
    }
   ],
   "source": [
    "# Create Data base with difference between each year\n",
    "house_diff = house_nona.set_index(\"DATE\").diff()\n",
    "\n",
    "# find the max difference in each state\n",
    "house_diff.max()"
   ]
  },
  {
   "cell_type": "code",
   "execution_count": 12,
   "metadata": {
    "scrolled": true
   },
   "outputs": [
    {
     "data": {
      "text/plain": [
       "DATE\n",
       "1/1/13    10590.0\n",
       "Name: Median_CO, dtype: float64"
      ]
     },
     "execution_count": 12,
     "metadata": {},
     "output_type": "execute_result"
    }
   ],
   "source": [
    "# find the date of the max difference in Colorado\n",
    "house_diff[house_diff[\"Median_CO\"] == 10590.0][\"Median_CO\"]"
   ]
  },
  {
   "cell_type": "code",
   "execution_count": 13,
   "metadata": {},
   "outputs": [],
   "source": [
    "# create dummie columns from columns with lists\n",
    "def dummie(column, game_id):\n",
    "    # create a new dataframe from the column series with game_id as the index\n",
    "    new_df = pd.DataFrame(column.str.split(',').tolist(), index=game_id).stack()\n",
    "    # reset the index\n",
    "    new_df = new_df.reset_index([0, 'index'])\n",
    "    # convert categorical variable into dummy variables\n",
    "    new_df = pd.get_dummies(new_df)\n",
    "    # sum and get rid of duplicate rows\n",
    "    new_df = new_df.groupby(['index']).sum().reset_index()\n",
    "    # Take 0_ out of each column name\n",
    "    new_df.rename(columns=lambda x: x[2:], inplace=True)\n",
    "    new_df.rename(columns={'dex': 'index'}, inplace=True)\n",
    "        \n",
    "    return new_df"
   ]
  },
  {
   "cell_type": "code",
   "execution_count": 14,
   "metadata": {
    "scrolled": true
   },
   "outputs": [
    {
     "data": {
      "text/plain": [
       "Transmission Type\n",
       "AUTOMATED_MANUAL     202.0\n",
       "AUTOMATIC           1311.0\n",
       "DIRECT_DRIVE           0.0\n",
       "MANUAL               562.0\n",
       "UNKNOWN                3.0\n",
       "Name: Performance, dtype: float64"
      ]
     },
     "execution_count": 14,
     "metadata": {},
     "output_type": "execute_result"
    }
   ],
   "source": [
    "# reset index in cars_df_no_na\n",
    "cars_df_no_na.reset_index(level=0, inplace=True)\n",
    "\n",
    "# Create database with dummie market categories\n",
    "dummie_car_df = dummie(cars_df_no_na['Market Category'], cars_df_no_na['index'])\n",
    "\n",
    "# Merge cars_df_no_na and dummie_car_df on index\n",
    "car_cat_df = pd.merge(cars_df_no_na, dummie_car_df, on=\"index\")\n",
    "\n",
    "# Show count of Transmission Type by Performance count\n",
    "car_cat_df.groupby(\"Transmission Type\")[\"Performance\"].sum()"
   ]
  }
 ],
 "metadata": {
  "kernelspec": {
   "display_name": "Python 3",
   "language": "python",
   "name": "python3"
  },
  "language_info": {
   "codemirror_mode": {
    "name": "ipython",
    "version": 3
   },
   "file_extension": ".py",
   "mimetype": "text/x-python",
   "name": "python",
   "nbconvert_exporter": "python",
   "pygments_lexer": "ipython3",
   "version": "3.8.5"
  }
 },
 "nbformat": 4,
 "nbformat_minor": 4
}
